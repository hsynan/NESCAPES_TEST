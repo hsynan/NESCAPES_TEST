{
 "cells": [
  {
   "cell_type": "code",
   "execution_count": null,
   "id": "febc1ee6-3baf-4c3e-9f86-4c9c91b0f861",
   "metadata": {},
   "outputs": [],
   "source": [
    "#SAMPLE FUNCTION INPUTS\n",
    "#local_dir = r'C:\\Users\\haley.synan\\Documents\\SEASCAPES\\CODE\\PYTHON' #set local dir \n",
    "#repo_url = \"git@github.com:hsynan/NESCAPES_TEST.git\" #REPO URL FROM GITHUB\n",
    "#proj_name = r'\\NESCAPES_TEST' #LOCAL DIRECTORY FOLDER NAME #message = 'pushing euphotic depth code' #COMMIT MESSAGE\n",
    "#branch_nm = 'haley'\n",
    "#message = 'initial push of files to main branch'\n",
    "#function to push ALL from local dir to github\n",
    "def gh_push_all(local_dir, proj_name, branch_nm, repo_url, message):\n",
    "    try: \n",
    "        repo = git.Repo(local_dir+proj_name) #set repo dir \n",
    "    #except: \n",
    "    #    repo = Repo.init(local_dir+proj_name) #IF NECESSARY INITIALIZE (CREATE) LOCAL DIR\n",
    "        #git_repo = git.Git(\"git@github.com:hsynan/Python_test.git\")\n",
    "    except: \n",
    "        Repo.clone_from(repo_url, local_dir+proj_name) #IF FIRST TIME RUNNING CODE, CLONE REPO \n",
    "        \n",
    "    origin = repo.remote(name='origin')\n",
    "    repo.remotes['origin'].set_url(repo_url)\n",
    "    repo.head.reference = repo.create_head(branch_nm)\n",
    "    repo.head.reference.set_tracking_branch(origin.refs.main).checkout()\n",
    "    repo.git.add('-A')\n",
    "    repo.index.commit(message)\n",
    "    repo.git.push(origin, branch_nm)\n",
    "\n",
    "\n",
    "def gh_push_fname(local_dir, repo_url, branch_nm, fname, message):\n",
    "    try: \n",
    "        repo = git.Repo(local_dir+proj_name) #set repo dir \n",
    "    #except: \n",
    "    #    repo = Repo.init(local_dir+proj_name) #IF NECESSARY INITIALIZE (CREATE) LOCAL DIR\n",
    "    except: \n",
    "        Repo.clone_from(repo_url, local_dir+proj_name) #IF FIRST TIME RUNNING CODE, CLONE REPO\n",
    "        \n",
    "    with open(f\"{local_dir}/{fname}\", \"a\") as f:\n",
    "        f.write(\"\\nUpdate version 2\")\n",
    "    add_file = [fname]  # relative path from git root\n",
    "    origin = repo.remote(name='origin')\n",
    "    repo.remotes['origin'].set_url(repo_url)\n",
    "    repo.head.reference = repo.create_head(branch_nm)\n",
    "    repo.head.reference.set_tracking_branch(origin.refs.main).checkout()\n",
    "    repo.index.add(add_file)\n",
    "    repo.index.commit(message)\n",
    "    repo.git.push(origin, branch_nm)"
   ]
  },
  {
   "cell_type": "code",
   "execution_count": null,
   "id": "f611feb5-c0d8-4c8c-87ca-3784676775a2",
   "metadata": {},
   "outputs": [],
   "source": [
    "#opts = '1'\n",
    "\n",
    "if opts == '1': \n",
    "    gh_push_fname(local_dir, repo_url, branch_nm, fname, message)\n",
    "elif opts == 'all':\n",
    "    gh_push_all(local_dir, proj_name, branch_nm, repo_url, message)\n",
    "    "
   ]
  }
 ],
 "metadata": {
  "kernelspec": {
   "display_name": "Python 3 (ipykernel)",
   "language": "python",
   "name": "python3"
  },
  "language_info": {
   "codemirror_mode": {
    "name": "ipython",
    "version": 3
   },
   "file_extension": ".py",
   "mimetype": "text/x-python",
   "name": "python",
   "nbconvert_exporter": "python",
   "pygments_lexer": "ipython3",
   "version": "3.11.7"
  }
 },
 "nbformat": 4,
 "nbformat_minor": 5
}

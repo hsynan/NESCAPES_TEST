{
 "cells": [
  {
   "cell_type": "markdown",
   "id": "16bee397-1976-4622-8e35-c02e5f1e5cb3",
   "metadata": {},
   "source": [
    "# Start up file \n",
    "## Objectives: \n",
    "* find usernmame\n",
    "* set \"basedir\" - username/project/PROJECTFOLDER\n",
    "* import basic/common libraries\n",
    "* connect to github\n",
    "* have file run automatically upon system startup\n",
    "\n",
    "\n"
   ]
  },
  {
   "cell_type": "markdown",
   "id": "b3f81b70-4667-4dbf-beae-7475183b89c5",
   "metadata": {},
   "source": [
    "## Check if start up file has been run already, if yes, CD to correct directory"
   ]
  },
  {
   "cell_type": "code",
   "execution_count": 7,
   "id": "1ddcbdca-1552-4fb3-b84f-74384bb10d01",
   "metadata": {},
   "outputs": [],
   "source": [
    "#import os\n",
    "#try:\n",
    "#    os.chdir(base_dir) #if the start up file has already been run, this will change the dir back to base\n",
    "#except NameError:\n",
    "#    base_dir = None #if the start up file hasn't been run yet, this will allow us to run this cell without crashing"
   ]
  },
  {
   "cell_type": "markdown",
   "id": "7e96f0d1-2732-4d49-bb69-d345f8f55817",
   "metadata": {},
   "source": [
    "## IMPORT/INSTALL NECESSARY LIBRARIES"
   ]
  },
  {
   "cell_type": "code",
   "execution_count": 1,
   "id": "302d6808-7c9f-4fce-a5aa-160d18501eab",
   "metadata": {},
   "outputs": [],
   "source": [
    "def check_or_install(lib_name): # define function to check if packages are already installed \n",
    "    try:\n",
    "        __import__(package)\n",
    "        #print(package + ' ' + '\\033[31;32mis already installed :D\\033[0m ') #print in green\n",
    "    except:\n",
    "        #print(package + ' ' + '\\033[31mis NOT installed. Installing...\\033[0m') #print in red \n",
    "        #print(package + ' ' + 'is NOT installed. Installing....')\n",
    "        os.system(\"pip install \"+ package)\n",
    "        #print(package + ' ' + '\\033[31;32mis now installed :D\\033[0m')"
   ]
  },
  {
   "cell_type": "code",
   "execution_count": 9,
   "id": "e46d95c7-2550-4168-b052-55816012b866",
   "metadata": {},
   "outputs": [],
   "source": [
    "#import packages that come preinstalled \n",
    "import os\n",
    "import urllib.request\n",
    "import numpy as np\n",
    "import warnings\n",
    "warnings.filterwarnings('ignore')\n",
    "from datetime import datetime\n",
    "from matplotlib import pyplot as plt\n",
    "import pandas as pd\n",
    "\n",
    "#check if packages are installed, if not... install them \n",
    "lib_name = ['sklearn', 'xarray', 'scipy','joblib','cartopy','GitPython', 'ipynbname', 'basemap', 'sklearn_som'] #packages to check if installed \n",
    "for package in lib_name:\n",
    "    check_or_install(package)\n",
    "\n",
    "# import packages just installed \n",
    "%matplotlib inline\n",
    "#plotting libraries \n",
    "import cartopy\n",
    "from cartopy.mpl.ticker import LongitudeFormatter, LatitudeFormatter\n",
    "import matplotlib.ticker as ticker \n",
    "from matplotlib.colors import ListedColormap\n",
    "from mpl_toolkits.basemap import Basemap\n",
    "from matplotlib.colors import LinearSegmentedColormap\n",
    "\n",
    "#ML libraries\n",
    "import sklearn as sk\n",
    "from sklearn import datasets\n",
    "from sklearn import preprocessing\n",
    "from sklearn_som.som import SOM\n",
    "from scipy.cluster.hierarchy import linkage, dendrogram\n",
    "from scipy.cluster.hierarchy import dendrogram\n",
    "from sklearn.cluster import AgglomerativeClustering\n",
    "from sklearn.metrics.cluster import rand_score, adjusted_rand_score, normalized_mutual_info_score\n",
    "\n",
    "#other\n",
    "from pandas import *\n",
    "import random\n",
    "import joblib\n",
    "import math\n",
    "import glob\n",
    "import xarray as xr\n",
    "from git import Repo\n",
    "import git\n",
    "import ipynbname\n",
    "from IPython.display import display, Markdown"
   ]
  },
  {
   "cell_type": "markdown",
   "id": "7169f176-1616-4ee8-8817-90141cfc1285",
   "metadata": {},
   "source": [
    "## CREATING DIRECTORIES"
   ]
  },
  {
   "cell_type": "code",
   "execution_count": 10,
   "id": "87f5fa91-9438-49ab-b968-5c566f0432fe",
   "metadata": {},
   "outputs": [],
   "source": [
    "# using getlogin() returning username\n",
    "us = os.getlogin() #check whos computer this is \n",
    "#print(us)"
   ]
  },
  {
   "cell_type": "code",
   "execution_count": 11,
   "id": "9984acde-d206-4434-8373-f7723958302d",
   "metadata": {},
   "outputs": [],
   "source": [
    "#cd\n",
    "os.chdir('C:/Users' + '/' + us)\n",
    "#os.chdir('C:\\Users\\haley.synan')"
   ]
  },
  {
   "cell_type": "code",
   "execution_count": 12,
   "id": "56d6a0c6-5619-4d29-a36c-6376b83d862c",
   "metadata": {},
   "outputs": [],
   "source": [
    "#create paths based on username \n",
    "if us == \"haley.synan\":\n",
    "    bd = \"users\"\n",
    "    #basedir = \"/Documents\"\n",
    "    #projdir = \"/PROJECTS\"\n",
    "    #proj_dir = '/SEASCAPES'\n",
    "    #datadir = '/DATA'\n",
    "    base_path = \"/Documents/SEASCAPES\"\n",
    "    proj_path = \"/CODE/PYTHON\"\n",
    "    data_path = \"/DATA\"\n",
    "    base_dir = \"C:/\"+bd+\"/\"+us+base_path\n",
    "    proj_dir = \"C:/\"+bd+\"/\"+us+base_path+proj_path\n",
    "    data_dir = \"C:/\"+bd+\"/\"+us+base_path+data_path\n",
    "    home_dir = \"C:/Users/haley.synan\"\n",
    "    __author__ = '{Haley Synan}'\n",
    "    __initials__ = '{HES}'\n",
    "    __copyright__ = 'Copyright {2024}, {NEScapes}'\n",
    "    #__credits__ = ['{credit_list}']\n",
    "    #__license__ = '{license}'\n",
    "    #__version__ = '{mayor}.{minor}.{rel}'\n",
    "    #__maintainer__ = '{maintainer}'\n",
    "    __email__ = '{haley.synan@noaa.gov}'\n",
    "elif us == \"kimberly.hyde\":\n",
    "    bd = \"Users\"\n",
    "    base_path = \"/nadata\"\n",
    "    proj_path = \"/PROJECTS/GIT_PROJECTS\"\n",
    "    data_path = \"/DATASETS\"\n",
    "    base_dir = \"/\"+bd+\"/\"+us+base_path\n",
    "    proj_dir = \"/\"+bd+\"/\"+us+base_path+proj_path\n",
    "    data_dir = \"C:/\"+bd+\"/\"+us+base_path+data_path\n",
    "    data_path = \"/\"+bd+\"/\"+us+base_path+proj_path\n",
    "    home_dir = \"/\"+bd+\"/\"+us\n",
    "    __author__ = '{Kimberly Hyde}'\n",
    "    __initials__ = '{KJWH}'\n",
    "    __copyright__ = 'Copyright {2024}, {NEScapes}'\n",
    "    #__credits__ = ['{credit_list}']\n",
    "    #__license__ = '{license}'\n",
    "    #__version__ = '{mayor}.{minor}.{rel}'\n",
    "    #__maintainer__ = '{maintainer}'\n",
    "    __email__ = '{kimberly.hyde@noaa.gov}'\n",
    "elif us == \"caroline.OHagan\":\n",
    "    bd = \"users\"\n",
    "    #path = bd+\"/\"+us+basedir\n",
    "    base_path = \"/Documents/INTERN_PROJECT_2024\"\n",
    "    proj_path = \"/SEASCAPES\"\n",
    "    data_path = \"/DATA\"\n",
    "    base_dir = \"/\"+bd+\"/\"+us+base_path\n",
    "    proj_dir = \"/\"+bd+\"/\"+us+base_path+proj_path\n",
    "    data_dir = \"/\"+bd+\"/\"+us+base_path+data_path\n",
    "    home_dir = \"/\"+bd+\"/\"+us\n",
    "\n",
    "#print(path)"
   ]
  },
  {
   "cell_type": "code",
   "execution_count": 13,
   "id": "7b700071-14ad-4c81-bd96-da0d940ab3d7",
   "metadata": {},
   "outputs": [],
   "source": [
    "#BASE DIR\n",
    "isexist_base = os.path.exists(base_dir) #check if path exists \n",
    "#print(isexist)\n",
    "if str(isexist_base) == 'False': #if path doesn't exist already, make it\n",
    "    os.mkdir(base_dir)\n",
    "\n",
    "#PROJECT DIR\n",
    "#proj_dir = proj_path+'/'+proj_name\n",
    "isexist_proj = os.path.exists(proj_dir) #check if path exists \n",
    "if str(isexist_proj) == 'False': \n",
    "    os.mkdir(proj_dir)\n",
    "\n",
    "#DATA DIR\n",
    "isexist_data = os.path.exists(data_dir) #check if path exists \n",
    "if str(isexist_data) == 'False': \n",
    "    os.mkdir(data_dir)\n",
    "\n",
    "\n",
    "\n",
    "os.chdir(proj_dir) #cd to project path \n",
    "#os.getcwd()"
   ]
  },
  {
   "cell_type": "code",
   "execution_count": null,
   "id": "a5b08913-58a6-4b19-b046-82ef5fce4af4",
   "metadata": {},
   "outputs": [],
   "source": [
    "#os.chdir(proj_dir) #navigate to project directory\n",
    "#os.chdir(data_dir) #navigate to data directory\n",
    "#os.chdir(base_dir) #navigate to base directory "
   ]
  },
  {
   "cell_type": "markdown",
   "id": "f20677b4-356c-4992-96f3-e72253086338",
   "metadata": {},
   "source": [
    "## GITHUB FUNCTIONS "
   ]
  },
  {
   "cell_type": "code",
   "execution_count": 14,
   "id": "ebde2f33-03c9-4be5-82c6-a9d18ac7b32e",
   "metadata": {},
   "outputs": [],
   "source": [
    "#SAMPLE FUNCTION INPUTS\n",
    "#local_dir = r'C:\\Users\\haley.synan\\Documents\\SEASCAPES\\CODE\\PYTHON' #set local dir \n",
    "#repo_url = \"git@github.com:hsynan/NESCAPES_TEST.git\" #REPO URL FROM GITHUB\n",
    "#proj_name = r'\\NESCAPES_TEST' #LOCAL DIRECTORY FOLDER NAME #message = 'pushing euphotic depth code' #COMMIT MESSAGE\n",
    "#branch_nm = 'haley'\n",
    "#message = 'initial push of files to main branch'\n",
    "#function to push ALL from local dir to github\n",
    "def gh_push_all(local_dir, proj_name, branch_nm, repo_url, message):\n",
    "    try: \n",
    "        repo = git.Repo(local_dir+proj_name) #set repo dir \n",
    "    #except: \n",
    "    #    repo = Repo.init(local_dir+proj_name) #IF NECESSARY INITIALIZE (CREATE) LOCAL DIR\n",
    "        #git_repo = git.Git(\"git@github.com:hsynan/Python_test.git\")\n",
    "    except: \n",
    "        Repo.clone_from(repo_url, local_dir+proj_name) #IF FIRST TIME RUNNING CODE, CLONE REPO \n",
    "        \n",
    "    origin = repo.remote(name='origin')\n",
    "    repo.remotes['origin'].set_url(repo_url)\n",
    "    repo.head.reference = repo.create_head(branch_nm)\n",
    "    repo.head.reference.set_tracking_branch(origin.refs.main).checkout()\n",
    "    repo.git.add('-A')\n",
    "    repo.index.commit(message)\n",
    "    repo.git.push(origin, branch_nm)\n",
    "\n",
    "\n",
    "def gh_push_fname(local_dir, repo_url, branch_nm, fname, message):\n",
    "    try: \n",
    "        repo = git.Repo(local_dir+proj_name) #set repo dir \n",
    "    #except: \n",
    "    #    repo = Repo.init(local_dir+proj_name) #IF NECESSARY INITIALIZE (CREATE) LOCAL DIR\n",
    "    except: \n",
    "        Repo.clone_from(repo_url, local_dir+proj_name) #IF FIRST TIME RUNNING CODE, CLONE REPO\n",
    "        \n",
    "    with open(f\"{local_dir}/{fname}\", \"a\") as f:\n",
    "        f.write(\"\\nUpdate version 2\")\n",
    "    add_file = [fname]  # relative path from git root\n",
    "    origin = repo.remote(name='origin')\n",
    "    repo.remotes['origin'].set_url(repo_url)\n",
    "    repo.head.reference = repo.create_head(branch_nm)\n",
    "    repo.head.reference.set_tracking_branch(origin.refs.main).checkout()\n",
    "    repo.index.add(add_file)\n",
    "    repo.index.commit(message)\n",
    "    repo.git.push(origin, branch_nm)\n",
    "\n",
    "def gh_pull(local_dir, repo_url, proj_name, branch_nm):\n",
    "    try: \n",
    "        repo = git.Repo(local_dir+proj_name) #set repo dir \n",
    "    #except: \n",
    "    #    repo = Repo.init(local_dir+proj_name) #IF NECESSARY INITIALIZE (CREATE) LOCAL DIR\n",
    "    except: \n",
    "        Repo.clone_from(repo_url, local_dir+proj_name) #IF FIRST TIME RUNNING CODE, CLONE REPO\n",
    "    origin = repo.remote(name='origin')\n",
    "    repo.remotes['origin'].set_url(repo_url)\n",
    "    repo.head.reference = repo.create_head(branch_nm)\n",
    "    repo.head.reference.set_tracking_branch(origin.refs.main).checkout()\n",
    "    repo.git.pull(origin, branch_nm)"
   ]
  },
  {
   "cell_type": "markdown",
   "id": "7e8b09d5-a9b0-4e71-a741-99b2457c41a5",
   "metadata": {},
   "source": [
    "### Set (some) variables for github functions "
   ]
  },
  {
   "cell_type": "code",
   "execution_count": 15,
   "id": "33004acc-84d6-4ec7-81bd-8f4d62a3f0da",
   "metadata": {},
   "outputs": [],
   "source": [
    "name = us.split('.') #split username into first and last name [haley, synan] \n",
    "branch_nm = name[0] #branch name should be FIRST NAME ONLY \n",
    "local_dir = proj_dir"
   ]
  },
  {
   "cell_type": "markdown",
   "id": "65a1a1fb-7c53-414c-8524-c32af8176bdb",
   "metadata": {},
   "source": [
    "## Set up header info "
   ]
  },
  {
   "cell_type": "code",
   "execution_count": 16,
   "id": "5ab405e8-489f-42ef-9704-3363e7a65fd1",
   "metadata": {},
   "outputs": [
    {
     "data": {
      "text/markdown": [
       "# startup_file"
      ],
      "text/plain": [
       "<IPython.core.display.Markdown object>"
      ]
     },
     "metadata": {},
     "output_type": "display_data"
    },
    {
     "data": {
      "text/markdown": [
       "## Author: haley synan"
      ],
      "text/plain": [
       "<IPython.core.display.Markdown object>"
      ]
     },
     "metadata": {},
     "output_type": "display_data"
    },
    {
     "data": {
      "text/markdown": [
       "##### *Last run on 2024-06-20*"
      ],
      "text/plain": [
       "<IPython.core.display.Markdown object>"
      ]
     },
     "metadata": {},
     "output_type": "display_data"
    }
   ],
   "source": [
    "todays_date = str(datetime.now().date())\n",
    "fname = ipynbname.name()\n",
    "#Ob1 = 'enter objective 1'\n",
    "#Ob2 = 'enter objective 2'\n",
    "\n",
    "display(Markdown(f'# {fname}'))\n",
    "display(Markdown(f'## Author: {name[0]} {name[1]}'))\n",
    "#display(Markdown(f'## *History:*'))\n",
    "display(Markdown(f'##### *Last run on {todays_date}*'))\n",
    "#display(Markdown(f'## Objectives:'))\n",
    "#display(Markdown(f'#### 1. {Ob1} <br> 2. {Ob2} '))"
   ]
  },
  {
   "cell_type": "code",
   "execution_count": null,
   "id": "e4faa48e-9bde-46d8-93c2-fdd5229ab5cd",
   "metadata": {},
   "outputs": [],
   "source": []
  }
 ],
 "metadata": {
  "kernelspec": {
   "display_name": "Python 3 (ipykernel)",
   "language": "python",
   "name": "python3"
  },
  "language_info": {
   "codemirror_mode": {
    "name": "ipython",
    "version": 3
   },
   "file_extension": ".py",
   "mimetype": "text/x-python",
   "name": "python",
   "nbconvert_exporter": "python",
   "pygments_lexer": "ipython3",
   "version": "3.11.7"
  }
 },
 "nbformat": 4,
 "nbformat_minor": 5
}

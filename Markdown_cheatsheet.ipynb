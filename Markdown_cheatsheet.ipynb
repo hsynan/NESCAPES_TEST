{
 "cells": [
  {
   "cell_type": "markdown",
   "id": "413e5861-6622-4e54-bb56-e5ed96791ecb",
   "metadata": {},
   "source": [
    "Markdown is a way to add plain text to your code. <br>\n",
    "## **BACKGROUND:**\n",
    "- Shortcut to turn cell into markdown: press \"ESC\" and \"M\" key \n",
    "- Use <(br)> to add a line break (br without parenthesis)\n",
    "Examples:\n",
    "1. Using <br> a break\n",
    "2. NOT using a break\n",
    "\n",
    "Other good markdown cheatsheets: \n",
    "1. https://www.ibm.com/docs/en/watson-studio-local/1.2.3?topic=notebooks-markdown-jupyter-cheatsheet\n",
    "2. https://www.kaggle.com/code/cuecacuela/the-ultimate-markdown-cheat-sheet\n",
    "3. https://ingeh.medium.com/markdown-for-jupyter-notebooks-cheatsheet-386c05aeebed\n"
   ]
  },
  {
   "cell_type": "markdown",
   "id": "f301f6e5-0814-436f-b06a-752594f168ef",
   "metadata": {},
   "source": [
    "# Titles\n",
    "\n",
    "Using the #, denotes a header. The more #'s, the smaller the header.\n",
    "**NOTE: you need to put a space after the # for it to register as a header... #TITLE will not work** <br>\n",
    "\n",
    "Examples:\n",
    "# for titles\r\n",
    "## for major headings\r\n",
    "### for subheadings\r\n",
    "#### for 4th level subheadings"
   ]
  },
  {
   "cell_type": "markdown",
   "id": "387aec58-995a-42ed-b76f-9f8cc367a6f0",
   "metadata": {},
   "source": [
    "# Lists\n",
    "\n",
    "#### Bulleted lists: use a single asterisk * <br>\n",
    "Examples: \n",
    "* this\n",
    "* is\n",
    "* a\n",
    "* list\n",
    "  * subheading\n",
    "\n",
    "*OR USING \"-\"*\n",
    "\n",
    "- this\n",
    "- is\n",
    "- a\n",
    "- list\n",
    "    - with a sub heading\n",
    " \n",
    "To make a subheading: \n",
    "- press enter\n",
    "- delete the autofilled bullet\n",
    "- press tab\n",
    "- delete any spacesm\n",
    "- enter - or * to create a subbullet\n",
    "    - sub bullet\n",
    "\n",
    "#### Numbered lists: start with \"1.\" (not in quotes).. the rest will autofill)\n",
    "1. this\n",
    "2. is\n",
    "3. a\n",
    "4. list"
   ]
  },
  {
   "cell_type": "markdown",
   "id": "277fe5c7-6b48-4221-b238-fffaf0e359f8",
   "metadata": {},
   "source": [
    "# Font type / color \n",
    "\n",
    "#### Italics\n",
    "-Use single asterisk surrounding text <br>\n",
    "Example: <br>\n",
    "*this is italics*\n",
    "\n",
    "#### Bold\n",
    "-Use double asterisks surrounding text <br>\n",
    "Example: <br>\n",
    "**this is bold**\n",
    "\n",
    "#### Colors \n",
    "-Markdown partially supports html, so we can use to create colored text raw html tags\n",
    "Example: <br>\n",
    "<font color='red'>this is red</font> <br>\n",
    "<font color='blue'>this is blue</font> <br>\n"
   ]
  },
  {
   "cell_type": "markdown",
   "id": "84488873-a0b1-4ea4-97a7-7f73e0e2eee6",
   "metadata": {},
   "source": [
    "# Inserting non-text into markdown\n",
    "\n",
    "#### Images <br>\n",
    "![<caption>](image_filename.png)\n",
    "\n",
    "#### Hyperlinks <br>\n",
    "Put text you want highlighted in brackets [text] followed by the link in parenthesis (link) (*NO Spaces*) <br>\n",
    "Example: <br>\n",
    "[good markdown cheatsheet](https://www.ibm.com/docs/en/watson-studio-local/1.2.3?topic=notebooks-markdown-jupyter-cheatsheet)\n",
    "\n",
    "#### Internal links\n",
    "Example: <br>\n",
    "[Section title](#section-title)\n",
    "\n",
    "#### Equations <br>\n",
    "Put dollar sign around the equation <br>\n",
    "Example: <br>\n",
    "$ 2+2 = 4 $"
   ]
  },
  {
   "cell_type": "code",
   "execution_count": null,
   "id": "c059ae7b-00ba-4b52-8f1a-664de71db52d",
   "metadata": {},
   "outputs": [],
   "source": []
  }
 ],
 "metadata": {
  "kernelspec": {
   "display_name": "Python 3 (ipykernel)",
   "language": "python",
   "name": "python3"
  },
  "language_info": {
   "codemirror_mode": {
    "name": "ipython",
    "version": 3
   },
   "file_extension": ".py",
   "mimetype": "text/x-python",
   "name": "python",
   "nbconvert_exporter": "python",
   "pygments_lexer": "ipython3",
   "version": "3.11.7"
  }
 },
 "nbformat": 4,
 "nbformat_minor": 5
}

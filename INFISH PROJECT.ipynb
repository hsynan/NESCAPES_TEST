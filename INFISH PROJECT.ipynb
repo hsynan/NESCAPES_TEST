{
 "cells": [
  {
   "cell_type": "markdown",
   "id": "9936a16e-de43-42b7-84bd-c98e2dbe7bcc",
   "metadata": {},
   "source": [
    "# REMOTE SENSING AND WATER MASS CLASSIFICATION\n",
    "## BY Caroline O'Hagan\n",
    "### Ecosystem Dynamics and Assessment Branch of the Northeast Fisheries Science Center\n",
    "#### Narragansett, Rhode Island"
   ]
  },
  {
   "cell_type": "markdown",
   "id": "a23a0acd-bfed-4482-92fb-87f08f26e5e3",
   "metadata": {},
   "source": [
    "### BACKGROUND\n",
    "\n",
    "<u> “2023 was a crazy year”\n",
    "* There was a very large and very unusual phytoplankton bloom in the Gulf of Maine\n",
    "* This bloom lasted from April to August and caused reduction in water clarity, impacted harpoon fishing, and affected visual predators\n",
    "* One hypothesis for reasoning this bloom occurred was there was an introduction of scotian shelf water coming into the region but there's no final answer\n",
    "* Fisheries managers are really interested in following up with this\n",
    "* The Gulf Stream also shifted North\n",
    "* The northwardward shift resulted in warm and salty surface waters onto the shelf itself and inhibited warm rings\n",
    "* This was problamatic because the species in this region were being affected due to not being adapted to the warmer saltier waters\n",
    "\n",
    "<u> Orienting the Northeast Shelf\n",
    "* The northeast shelf is a highly dynamic and highly productive region which makes it a very important study area for fisheries as a whole and in our situation where we’re looking at data for a highly unusual phytoplankton bloom\n",
    "* The location of Georges Bank, the Gulf of Maine, the Scotian Shelf, and the Mid Atlantic Bight all are located and how their currents flow is  important for us to know in terms of where, what, and why water is present as well as what we expect for water masses\n",
    "* We also track warm and cold core rings and where they interact with water\n",
    "* Scotian Shelf water is cooler shallow water\n",
    "* Warm-core rings are rotating warm masses of water surrounded by colder water\n",
    "* Definitions:\n",
    "* Water mass: a body water that originates in a specific regio\n",
    "* Water characteristics: the biophysical parameters such as temperature, salinity, and phytoplankton biomass\n",
    "* Water class: the model output identifying the type of water based on its characteristi"
   ]
  },
  {
   "cell_type": "markdown",
   "id": "3259cf96-4b9e-4438-a48d-e4bb400dd41d",
   "metadata": {},
   "source": [
    "### What is this Seascapes?"
   ]
  },
  {
   "cell_type": "markdown",
   "id": "1d18c93b-9bad-4111-8cc3-50536e9dee71",
   "metadata": {},
   "source": [
    "<u> Seascapes:\n",
    "* A model product\n",
    "* Hosted on the CoastWatch website\n",
    "* A current water mass classification product\n",
    "* Global\n",
    "* Clustering techniques into 33 water classes\n",
    "* Variables model is built on indlude, chlorophyll, PAR, and SST\n",
    "* Has potential uses in habitat biodiversity and ecosystem monitoring"
   ]
  },
  {
   "cell_type": "markdown",
   "id": "a353f4c5-2fe1-4e41-8243-100ab172bdba",
   "metadata": {},
   "source": [
    "### INTRODUCTION"
   ]
  },
  {
   "cell_type": "markdown",
   "id": "3abf74d3-76f4-4787-a444-40cf03bd3f88",
   "metadata": {},
   "source": [
    "<u> The overall project goal:\n",
    "* Develop a fisheries relevant water mass classification product for the Northeast U.S. continental shelf ecosyste\n",
    "\n",
    "<u> My project:\n",
    "* Focused on assessing Seascapes, a global water mass classification product\n",
    "* Data from the year 2023\n",
    "* An important component of the larger project goal to refine, regionally tune, and validate the global Seascapes product to better represent water masses observed in the Northwest Atlantic"
   ]
  },
  {
   "cell_type": "markdown",
   "id": "0ad5457a-6beb-4eeb-b7c8-089f1d7c151a",
   "metadata": {},
   "source": [
    "### METHODS"
   ]
  },
  {
   "cell_type": "markdown",
   "id": "f2be953d-45df-48a5-8711-87f038636cb0",
   "metadata": {},
   "source": [
    "* The methods I used also highlight what I learned and the processes I had to go through\n",
    "* Develop new Python code to download data from ERDDAP and other online satellite data repositories\n",
    "* Analyze other remotely sensed variables such as chlorophyll concentration, sea surface temperature, and optical water type classifications to determine how they relate to the water classes identified by the Seascape modeL\n",
    "* The satellite data was not all on the same map projection and resolution when downloaded\n",
    "* For easier analysis and visualization, I re-gridded all of the satellite data products to the same map projection and resolution (SST and chlorphyll to match Seascapes)\n",
    "* I analyzed multiple remotely sensed variables to better understand why Seascapes produced specific data, what the data meant, and how the data provided insights to the state of the ecosystem"
   ]
  },
  {
   "cell_type": "markdown",
   "id": "b249e081-2ae6-4ad4-9d47-7b8164da981a",
   "metadata": {},
   "source": [
    "### Loading in All Data"
   ]
  },
  {
   "cell_type": "code",
   "execution_count": null,
   "id": "e161d8ee-0cc2-490a-bcef-da12ade800b4",
   "metadata": {},
   "outputs": [],
   "source": [
    "import os #this is always what you have to start with or else nothing will be recognized\n",
    "\n",
    "os.chdir(r'C:\\users\\caroline.OHagan\\Downloads') #this is setting the directory\n",
    "\n",
    "%run ./startup_file.ipynb #run startup file ALWAYS it is the magical code\n",
    "\n",
    "%run ./FUNCTIONS.ipynb #the functions file is another that holds a lot of functions\n",
    "\n",
    "start_date = '2023-01-01' #(yyyy-mm-dd format)\n",
    "end_date = '2023-12-31' #this is the start and end dates that were worked with for my entire project\n",
    "\n",
    "#SST data \n",
    "os.chdir(data_dir) #cd to data directory \n",
    "data_dir_fold = data_dir+'/SST' #path for new folder \n",
    "ds_source = downloaddata(start_date, end_date, 'sst')\n",
    "#OCCCI Chlorophyll data\n",
    "os.chdir(data_dir) #cd to data directory \n",
    "data_dir_fold = data_dir+'/Chlorophyll' #path for new folder \n",
    "dc_source = downloaddata(start_date, end_date, 'occci')\n",
    "#Seascapes data \n",
    "os.chdir(data_dir) #cd to data directory \n",
    "data_dir_fold = data_dir+'/SEASCAPES' #path for new folder \n",
    "seascapes = downloaddata(start_date, end_date, 'seascapes')\n",
    "\n",
    "#Process regridded SST data\n",
    "eightday=ds_source.rolling(time=8, center=True, min_periods=1).mean() #create 8 day mean of sst data \n",
    "import xarray_regrid\n",
    "ds_source = eightday.regrid.linear(seascapes) #regrid data \n",
    "ds_source= ds_source.where(\n",
    "    ds_source.time==seascapes.time, drop=True) #only keeping dates that match the seascapes dates\n",
    "\n",
    "\n",
    "num_files = len(seascapes.CLASS.values) #used for plotting\n",
    "\n",
    "# CREATE DICTIONARIES OF MASKS\n",
    "## masks were needed to mask out the NaN values\n",
    "masks = {}\n",
    "mask_one = []\n",
    "\n",
    "for y in range(1,34):\n",
    "    mask_one = []\n",
    "    for x in range(num_files):\n",
    "        cn= np.ma.masked_where(seascapes.CLASS.values[x]==y, seascapes.CLASS.values[x])\n",
    "        mask_one.append(cn)\n",
    "        masks.update({y: mask_one})\n",
    "\n",
    "# masks were needed to mask out the NaN values\n",
    "\n",
    "# CREATE DICTIONARIES OF PERCENTS\n",
    "## percents calculated for seascapes plotting data\n",
    "perce = []\n",
    "percent = {}\n",
    "for y in range(1,34):\n",
    "    perce = []\n",
    "    for x in range(num_files):\n",
    "        #tt = masks[x][y] == y\n",
    "        true_val = np.count_nonzero(masks[y][x].mask == True)\n",
    "        #true_val = np.count_nonzero(tt == True)\n",
    "        total_nonnan = np.count_nonzero(~np.isnan(masks[y][x].data)) #total number of pixels NON NAN\n",
    "        perc = true_val / total_nonnan * 100  #PUT INTO LOOP AND FIND PERC FOR EACH DATE AND PLOT EACH DAT\n",
    "        perce.append(perc)\n",
    "        percent.update({y:perce})\n",
    "\n",
    "#this turns the datetimes into strings and splits them into yyyy-mm-dd for labeling the date axis \n",
    "#add this BEFORE plot\n",
    "d8s = []\n",
    "month = []\n",
    "\n",
    "for x in range(len(seascapes.time.data)):\n",
    "    d88 = str(seascapes.time.data[x])\n",
    "    d88 = d88.split('T')\n",
    "    d8s.append(d88[0])\n",
    "    M = seascapes.time[x].dt.strftime('%B').item()\n",
    "    month.append(M)"
   ]
  },
  {
   "cell_type": "markdown",
   "id": "f925f103-8248-44be-ae3f-46eeb5769fd2",
   "metadata": {},
   "source": [
    "### Cartopy Plot of Masked Values for ONE Seascapes Class"
   ]
  },
  {
   "cell_type": "markdown",
   "id": "f45ca498-6b1c-4d4b-b4aa-7b3b5f791f7e",
   "metadata": {},
   "source": [
    "* One of the first steps to actually finalizing results for the Seascapes data was to determine when and where specific classes were identified\n",
    "* \n",
    "We also assessed what classes where dominant and their persistence over tie\n",
    "* \r\n",
    "We wanted to see if we could identify certain water massein our region\n",
    "* Analyzing how well the water masses Seascapes identified matched with the masses we would actuallyexpectc"
   ]
  },
  {
   "cell_type": "code",
   "execution_count": null,
   "id": "ba28cf3f-263c-45e9-9da5-e4b0ce2f6211",
   "metadata": {},
   "outputs": [],
   "source": [
    "#plot all dates on top of each other for ONE class\n",
    "from matplotlib import colors as c\n",
    "start_date = '2023-01-01' #(yyyy-mm-dd format)\n",
    "end_date = '2023-12-31' #this is the start and end dates that were worked with for my entire project\n",
    "\n",
    "cMap = c.ListedColormap(['w','b']) #define colormap (masked values will be white, presence will be in blue)\n",
    "\n",
    "import numpy as np\n",
    "import matplotlib.pyplot as plt\n",
    "import cartopy.feature as cfeature\n",
    "import cartopy.crs as ccrs\n",
    "from cartopy.mpl.ticker import LongitudeFormatter, LatitudeFormatter\n",
    "from shapely.ops import cascaded_union\n",
    "\n",
    "mask = []\n",
    "classnum = 14\n",
    "for x in range(num_files):\n",
    "    cn= np.ma.masked_where(seascapes.CLASS.values[x]==classnum, seascapes.CLASS.values[x])\n",
    "    mask.append(cn)\n",
    "\n",
    "for x in range(num_files):\n",
    "    fig = plt.figure(figsize=(10, 7)) #set figure size\n",
    "    map_projection = cartopy.crs.PlateCarree() #set map projection\n",
    "    ax = plt.axes(projection=map_projection) \n",
    "    try:\n",
    "        ax.pcolormesh(seascapes.longitude, seascapes.latitude, mask[x].mask, cmap=cMap) #set variables to plot\n",
    "    except ValueError:\n",
    "        pass\n",
    "        \n",
    "    ax.coastlines() #adds a line of the coast onto the plot\n",
    "    bathym = cfeature.NaturalEarthFeature(name='bathymetry_K_200', scale='10m', category='physical') #bathymatry line\n",
    "    bathym = cascaded_union(list(bathym.geometries()))\n",
    "    ax.add_geometries(bathym, facecolor='none', edgecolor='black', crs=ccrs.PlateCarree())\n",
    "    plt.title(\"Seascape Class 14\" + ' '+seascapes.time[x].dt.strftime('%Y-%m-%d').item())"
   ]
  },
  {
   "cell_type": "markdown",
   "id": "33b20134-fa68-48f6-9f46-d2194336b054",
   "metadata": {},
   "source": [
    "### Seascapes Stacked Bar Chart"
   ]
  },
  {
   "cell_type": "code",
   "execution_count": null,
   "id": "29170cc9-3cca-4723-8fa4-21dc989f0e2d",
   "metadata": {},
   "outputs": [],
   "source": [
    "xi = list(range(len(seascapes.time))) #so we could force the x axis to plot all seascapes dates\n",
    "## Will need to copy and paste this command in if seperately plotting plots down below\n",
    "\n",
    "values = np.array([percent[1], percent[2], percent[3], percent[4],\n",
    "                   percent[5], percent[6], percent[7], percent[8], percent[9], \n",
    "                   percent[10], percent[11], percent[12], percent[13], percent[14], \n",
    "                   percent[15], percent[16], percent[17], percent[18], percent[19], \n",
    "                   percent[20], percent[21], percent[22], percent[23], percent[24], \n",
    "                   percent[25], percent[26], percent[27], percent[28], percent[29], \n",
    "                   percent[30], percent[31], percent[32], percent[33]])\n",
    "\n",
    "colors = [\"midnightblue\",\"navy\",\"darkblue\",\"mediumblue\", \"blue\", \"royalblue\", 'cornflowerblue','steelblue','dodgerblue','deepskyblue','skyblue','lightskyblue','lightseagreen','mediumturquoise','mediumaquamarine','limegreen','lawngreen','greenyellow','yellow',\n",
    "         'khaki','gold','goldenrod','darkgoldenrod','darkorange', 'chocolate','sandybrown','peru','coral','orangered','red','black','dimgrey', 'lightgray']\n",
    "\n",
    "\n",
    "fig = plt.figure(figsize=(13, 11)) \n",
    "for i in range(values.shape[0]):\n",
    "\n",
    "    p = plt.bar(xi, values[i], bottom = np.sum(values[:i], axis = 0), color = colors[i],label='Class' + ' ' + str(i+1)) #stacked bar chart\n",
    "    plt.legend(bbox_to_anchor=(1.05, 1.0), ncol=2) #plot legend\n",
    "    plt.xlabel(\"Date\", fontsize=12) #give x axis a label\n",
    "    plt.ylabel('Percent', fontsize=12) #give y axis a label\n",
    "    plt.title('Percent Optical Seascapes Class', fontsize=14) #give plot a title\n",
    "    plt.tick_params(axis='x', labelsize=10) #x axis tick parameters\n",
    "    plt.xticks(xi, month, rotation=45, fontsize=10) #add correct labels\n",
    "    plt.minorticks_on()\n",
    "    plt.legend(reverse=True, loc='center left', bbox_to_anchor=(1, 0.5)) #call for legend to be able to be read bottom to top\n",
    "    labels = [] #allowed me to only plot month title once instead of 4 times in a row\n",
    "    for i in range(len(xi)): \n",
    "        if i % 4 == 0: \n",
    "            labels.append(month[i])\n",
    "        else: \n",
    "            labels.append(\"\")\n",
    "\n",
    "    plt.xticks(ticks=xi,labels=labels) #gave the x axis the labels of month only being plotted once"
   ]
  },
  {
   "cell_type": "markdown",
   "id": "6222161b-c2e9-4f26-a6dc-385a0051f770",
   "metadata": {},
   "source": [
    "* Seasonality is heavily shown in Seascapes identifying results\n",
    "* Although the seasons changing definitely can have an effect on water masses, it shouldn’t completely shift the type of water that is present into a water class completely different\n",
    "* We found that Seascapes characterizes water more so than identifies water masses"
   ]
  },
  {
   "cell_type": "markdown",
   "id": "cab204f7-fb39-4e3f-a46c-8b845d854a48",
   "metadata": {},
   "source": [
    "### Bar Plots of Seascapes Data"
   ]
  },
  {
   "cell_type": "code",
   "execution_count": null,
   "id": "6dfc918b-f9a3-4c62-b93d-341f569ab0ee",
   "metadata": {},
   "outputs": [],
   "source": [
    "#Each individual seascape class has its own bar plot here over the entire year\n",
    "for i in range(1,34):\n",
    "    plt.figure(figsize=(12, 4))\n",
    "    p = plt.bar(xi, percent[i], color = colors[i-1],label='Class' + ' ' + str(i)) #set variables to plot \n",
    "    plt.xlabel(\"Date\", fontsize=12)\n",
    "    plt.ylabel('Percent', fontsize=12)\n",
    "    plt.title('Percent Optical Seascapes Class', fontsize=14)\n",
    "    plt.tick_params(axis='x', labelsize=10)\n",
    "    plt.xticks(xi, month, rotation=45, fontsize=10) #add correct labels\n",
    "    plt.ylim(0,60)\n",
    "    #if values.shape[0]<5:\n",
    "        #plt.bar(p)\n",
    "    #else:\n",
    "        #continue\n",
    "    plt.minorticks_on()\n",
    "    plt.legend(reverse=True, loc='center left', bbox_to_anchor=(1, 0.5))"
   ]
  },
  {
   "cell_type": "markdown",
   "id": "09fdc286-0926-4803-a4a5-c4a024bfa265",
   "metadata": {},
   "source": [
    "### Cartopy Plot of Seascapes Data"
   ]
  },
  {
   "cell_type": "code",
   "execution_count": null,
   "id": "ea52efec-ec6b-4c0b-8912-01748332327d",
   "metadata": {},
   "outputs": [],
   "source": [
    "#This is a plot of the entire region we were focusing on this summer\n",
    "#It is by date the Seascapes data was pulled from\n",
    "#Wherever the correlating seascapes data appeared is where it shows up\n",
    "import cartopy.crs as ccrs\n",
    "from cartopy.mpl.ticker import LongitudeFormatter, LatitudeFormatter\n",
    "from shapely.ops import cascaded_union\n",
    "for x in range(num_files):\n",
    "    fig = plt.figure(figsize=(10, 7)) #set figure size\n",
    "    map_projection = cartopy.crs.PlateCarree() #set map projection\n",
    "    ax = plt.axes(projection=map_projection) \n",
    "\n",
    "    cm = LinearSegmentedColormap.from_list('my_colors', colors, N=33) #call colormap. these are the colors called from the stacked barchart\n",
    "    im = ax.pcolormesh(seascapes.longitude, seascapes.latitude,seascapes.CLASS[x,:,:], cmap = cm, vmin=0, vmax=33) #set variables to plot\n",
    "    ax.coastlines()\n",
    "    bathym = cfeature.NaturalEarthFeature(name='bathymetry_K_200', scale='10m', category='physical')\n",
    "    bathym = cascaded_union(list(bathym.geometries()))\n",
    "    ax.add_geometries(bathym, facecolor='none', edgecolor='black', crs=ccrs.PlateCarree())\n",
    "\n",
    "    ax.set_xticks(np.linspace(-78, -63.4, 5), crs=map_projection) #set latitude bounds \n",
    "    ax.set_yticks(np.linspace(34.3, 47, 5), crs=map_projection) #set longitude bounds\n",
    "    lon_formatter = LongitudeFormatter(zero_direction_label=True)\n",
    "    lat_formatter = LatitudeFormatter()\n",
    "    ax.xaxis.set_major_formatter(lon_formatter)\n",
    "    ax.yaxis.set_major_formatter(lat_formatter)\n",
    "\n",
    "    cb = plt.colorbar(im, label='Class number',) #colorbar title \n",
    "    tick_locator = ticker.MaxNLocator(nbins=33) #set 33 ticks to colorbar (one for each seascape class) \n",
    "    cb.locator = tick_locator\n",
    "    cb.update_ticks()"
   ]
  },
  {
   "cell_type": "markdown",
   "id": "8229f83e-0a24-4643-8b32-12b9f64947a2",
   "metadata": {},
   "source": [
    "### Colormap Matching the Exact Seascapes Identification Colors"
   ]
  },
  {
   "cell_type": "code",
   "execution_count": null,
   "id": "da49b22c-bf66-4358-a658-01eec52f349e",
   "metadata": {},
   "outputs": [],
   "source": [
    "!pip install webcolors\n",
    "import webcolors\n",
    "new_cmap = [(0,0,152),(0,14,161),(0,29,169), (0,43,177), (0,58,186),(0,72,194),(0,86,201), (0,101,210), (0,115,218), (0,130,226), (0,144,235), (0,159,244), (16,177,217), (51,187,178), (85,197,137), (120,207,99), (154,217,60), (155,217,60), (189,226,21), (210,225,0), (215,211,0), (218,200, 0), (222, 189, 0), (227,187,0), (231,166,0), (234,154,0), (238,143,0), (243,130,0), (246,120,0), (251,108,0), (254,95,0), (50,50,50), (124,124,124), (200,200,200)]\n",
    "colors = []\n",
    "for x in range(1,34):\n",
    "    cc= webcolors.rgb_to_hex(new_cmap[x])\n",
    "    colors.append(cc)\n",
    "xi = list(range(len(seascapes.time)))\n",
    "values = np.array([percent[1], percent[2], percent[3], percent[4],\n",
    "                   percent[5], percent[6], percent[7], percent[8], percent[9], \n",
    "                   percent[10], percent[11], percent[12], percent[13], percent[14], \n",
    "                   percent[15], percent[16], percent[17], percent[18], percent[19], \n",
    "                   percent[20], percent[21], percent[22], percent[23], percent[24], \n",
    "                   percent[25], percent[26], percent[27], percent[28], percent[29], \n",
    "                   percent[30], percent[31], percent[32], percent[33]])\n",
    "\n",
    "fig = plt.figure(figsize=(13, 11)) \n",
    "for i in range(values.shape[0]):\n",
    "\n",
    "    p = plt.bar(xi, values[i], bottom = np.sum(values[:i], axis = 0), color = colors[i],label='Class' + ' ' + str(i+1))\n",
    "    plt.legend(bbox_to_anchor=(1.05, 1.0), ncol=2)\n",
    "    plt.xlabel(\"Date\", fontsize=12)\n",
    "    plt.ylabel('Percent', fontsize=12)\n",
    "    plt.title('Percent Optical Seascapes Class', fontsize=14)\n",
    "    plt.tick_params(axis='x', labelsize=10)\n",
    "    plt.xticks(xi, month, rotation=45, fontsize=10) #add correct labels\n",
    "    plt.minorticks_on()\n",
    "    plt.legend(reverse=True, loc='center left', bbox_to_anchor=(1, 0.5))\n",
    "    labels = []\n",
    "    for i in range(len(xi)): \n",
    "        if i % 4 == 0: \n",
    "            labels.append(month[i])\n",
    "        else: \n",
    "            labels.append(\"\")\n",
    "\n",
    "    plt.xticks(ticks=xi,labels=labels)"
   ]
  },
  {
   "cell_type": "markdown",
   "id": "3f2fd5af-e6cc-4d13-8540-e8cbbd139004",
   "metadata": {},
   "source": [
    "### Subplots of SST, Chlorophyll, and Seascapes Data into One"
   ]
  },
  {
   "cell_type": "code",
   "execution_count": null,
   "id": "d0fd2870-8216-4e4c-b699-15c1ca190267",
   "metadata": {},
   "outputs": [],
   "source": [
    "# Define the figure and each axis for the 3 rows and 3 columns\n",
    "import numpy as np\n",
    "import matplotlib.pyplot as plt\n",
    "import cartopy.feature as cfeature\n",
    "import cartopy.crs as ccrs\n",
    "from cartopy.mpl.ticker import LongitudeFormatter, LatitudeFormatter\n",
    "from shapely.ops import cascaded_union\n",
    "colors = [\"midnightblue\",\"navy\",\"darkblue\",\"mediumblue\", \"blue\", \"royalblue\", 'cornflowerblue','steelblue','dodgerblue','deepskyblue','skyblue','lightskyblue','lightseagreen','mediumturquoise','mediumaquamarine','limegreen','lawngreen','greenyellow','yellow',\n",
    "         'khaki','gold','goldenrod','darkgoldenrod','darkorange', 'chocolate','sandybrown','peru','coral','orangered','red','black','dimgrey', 'lightgray']\n",
    "cm = LinearSegmentedColormap.from_list('my_colors', colors, N=33) #call colormap\n",
    "\n",
    "chloralog=np.log10(dc_source.chlor_a) #setting chlorophyll data into a log scale\n",
    "\n",
    "for x in range(num_files):\n",
    "    fig, axs = plt.subplots(nrows=1,ncols=3,\n",
    "                            subplot_kw={'projection': ccrs.PlateCarree()},\n",
    "                            figsize=(15,10))\n",
    "    \n",
    "    # axs is a 2 dimensional array of GeoAxes.  We will flatten it into a 1-D array\n",
    "    axs=axs.flatten()\n",
    "    bathym = cfeature.NaturalEarthFeature(name='bathymetry_K_200', scale='10m', category='physical')\n",
    "    bathym = cascaded_union(list(bathym.geometries()))\n",
    "    sstc=axs[0].pcolormesh(ds_source.longitude, ds_source.latitude,ds_source.sea_surface_temperature[x,:,:], cmap = 'jet') #set SST variables to plot\n",
    "    axs[0].coastlines()\n",
    "    axs[0].add_feature(cartopy.feature.LAND, zorder=100, facecolor='w')\n",
    "    axs[0].add_geometries(bathym, facecolor='none', edgecolor='black', crs=ccrs.PlateCarree())\n",
    "    axs[0].set_title('SST')\n",
    "    plt.colorbar(sstc, ax=axs[0], shrink=0.35, label='SST (Celsius)') #colorbar title \n",
    "    chc=axs[1].pcolormesh(chloralog.longitude, chloralog.latitude, chlor[x,:,:], cmap = 'jet', vmin=-1, vmax=1) #set Chlorophyll variables to plot\n",
    "    axs[1].coastlines()\n",
    "    axs[1].add_feature(cartopy.feature.LAND, zorder=100, facecolor='w')\n",
    "    axs[1].add_geometries(bathym, facecolor='none', edgecolor='black', crs=ccrs.PlateCarree())\n",
    "    axs[1].set_title('Chlorophyll')\n",
    "    cb= plt.colorbar(chc, ax=axs[1], shrink=0.35, label='Chlorophyll (mg/m^-3)')\n",
    "    cb.set_ticks([-1.0, -0.52287875, 0.0, 0.47712125, 1.0])\n",
    "    cb.set_ticklabels(['0.1', '0.3', '1', '3', '10'])\n",
    "    sc=axs[2].pcolormesh(seascapes.longitude, seascapes.latitude,seascapes.CLASS[x,:,:], cmap = cm, vmin=0, vmax=33) #set Seascapes variables to plot\n",
    "    axs[2].coastlines()\n",
    "    axs[2].add_feature(cartopy.feature.LAND, zorder=100, facecolor='w') #masks out and masks land to be white so rivers and lakes aren't picked up on\n",
    "    axs[2].add_geometries(bathym, facecolor='none', edgecolor='black', crs=ccrs.PlateCarree())\n",
    "    axs[2].set_title('Seascapes')\n",
    "    plt.colorbar(sc, ax=axs[2], shrink=0.35, label= 'Class Number') #colorbar title \n",
    "    plt.suptitle('Spring', fontsize=15, ha='right', va='center', x=0, y=0.45, rotation=90) #Title on the side of the plots\n",
    "    fig.tight_layout() #so title doesn't have a huge space between it and plot"
   ]
  },
  {
   "cell_type": "markdown",
   "id": "0173ad42-770b-4eba-8920-0956b13c6e8f",
   "metadata": {},
   "source": [
    "* The seasonality can be really seen in the subplots specficially in the mid July and late October plots. In these plots Seascapes is identifying water masses in July and putting them into classes and then come Cctober Seascapes identifies different water masses and puts them into classes\n",
    "* We wouldn’t expect for there to be such a strong change in masses in this region just because of the seasons changing\n",
    "* Also the fact that seascapes identifies different water masses in the Georges Bank and Gulf of Maine area is questionable because that water isn’t know to typically change\n",
    "* The subplot of late October and the first Novemeber date are only either days apart. Seascapes identifies the shelf water masses as completely different water classes. This represents a huge inconsistency as there should not be such a shift in everything only 8 days apart\n",
    "* The spring subplot is a positive example of something we would expect. In the SST plot there apears to be a warm core ring and in the Seascapes plot there is a ring where it identifies this water as tropical subtropical transition water which has a sea surface temperature average of 24.12 degrees Celsius and a chlorophyll average of 0.15mg/m^3, so everything aligns very nicely.\n",
    "* Warm core ring has core of sargasso sea water which is exactly what is show"
   ]
  },
  {
   "cell_type": "markdown",
   "id": "f3404805-24e1-415a-ab08-be186db852b1",
   "metadata": {},
   "source": [
    "### SST Timeseries"
   ]
  },
  {
   "cell_type": "code",
   "execution_count": null,
   "id": "ffe624eb-ade6-4b1e-a9dd-26edaed49a1d",
   "metadata": {},
   "outputs": [],
   "source": [
    "#Calculating averages so they can be plotted over time series\n",
    "final_se = []\n",
    "for x in range(1,34):\n",
    "    se= stats.sem(averages[x])\n",
    "    final_se.append(se)\n",
    "\n",
    "#Average SST Timeseries by Seascapes Class\n",
    "colors = [\"midnightblue\",\"navy\",\"darkblue\",\"mediumblue\", \"blue\", \"royalblue\", 'cornflowerblue','steelblue','dodgerblue','deepskyblue','skyblue','lightskyblue','lightseagreen','mediumturquoise','mediumaquamarine','limegreen','lawngreen','greenyellow','yellow',\n",
    "         'khaki','gold','goldenrod','darkgoldenrod','darkorange', 'chocolate','sandybrown','peru','coral','orangered','red','black','dimgrey', 'lightgray']\n",
    "\n",
    "\n",
    "for x in range(1,34):\n",
    "    fig = plt.figure(figsize=(12, 10)) #set figure size\n",
    "    plt.scatter(xi, averages[x], label= 'Class' + ' ' + str(x), color = colors[x-1])\n",
    "    plt.errorbar(xi,averages[x], yerr= std_err[x], color = 'dimgrey', ls='none')\n",
    "    plt.title('Average SST by Seascape Class')\n",
    "    plt.ylabel('Average SST (Celsius)')\n",
    "    plt.xlabel('Date')\n",
    "    plt.tick_params(axis='x', labelsize=10) #change date tick label size\n",
    "    plt.xticks(xi, month, rotation=45, fontsize=8) #add correct labels\n",
    "    plt.ylim(-1, 34)\n",
    "    #plt.minorticks_on()\n",
    "    plt.legend(loc='center left', bbox_to_anchor=(1, 0.5))#add legend\n",
    "    labels = []\n",
    "    for i in range(len(xi)): \n",
    "        if i % 4 == 0: \n",
    "            labels.append(month[i])\n",
    "        else: \n",
    "            labels.append(\"\")\n",
    "\n",
    "    plt.xticks(ticks=xi,labels=labels)\n",
    "   \n",
    "    for i in range(len(xi)):\n",
    "        plt.annotate(f'{averages[x][i]:.2f}', (xi[i],averages[x][i]), fontsize=6, xycoords='data',\n",
    "                xytext=(-10, 7), textcoords='offset points')\n",
    "\n",
    "\n",
    "plt.show()"
   ]
  },
  {
   "cell_type": "markdown",
   "id": "3e2b7df8-7300-4f43-b5bc-b8dccea07913",
   "metadata": {},
   "source": [
    "### Annual Average SST Data Plot"
   ]
  },
  {
   "cell_type": "code",
   "execution_count": null,
   "id": "36e16ad0-5a9d-434c-b138-f614a7c2df07",
   "metadata": {},
   "outputs": [],
   "source": [
    "stacked_bytime = ds_source.stack(z=('latitude', 'longitude')).mean(dim='time') #stacked all of the averages together into one\n",
    "fig = plt.figure(figsize=(10, 7)) #set figure size\n",
    "map_projection = cartopy.crs.PlateCarree() #set map projection\n",
    "ax = plt.axes(projection=map_projection) \n",
    "plt.scatter(stacked_bytime.longitude, stacked_bytime.latitude,c= stacked_bytime.sea_surface_temperature, cmap = 'jet')\n",
    "ax.coastlines()\n",
    "ax.add_feature(cartopy.feature.LAND, zorder=100, facecolor='w') #whites out land\n",
    "plt.title('Annual Average SST')\n",
    "ax.set_xticks(np.linspace(-78, -63.4, 5), crs=map_projection) #set latitude bounds \n",
    "ax.set_yticks(np.linspace(34.3, 47, 5), crs=map_projection) #set longitude bounds\n",
    "lon_formatter = LongitudeFormatter(zero_direction_label=True)\n",
    "lat_formatter = LatitudeFormatter()\n",
    "ax.xaxis.set_major_formatter(lon_formatter)\n",
    "ax.yaxis.set_major_formatter(lat_formatter)"
   ]
  },
  {
   "cell_type": "markdown",
   "id": "42ead516-e6da-48ab-a143-f3efe48b4a42",
   "metadata": {},
   "source": [
    "### Chlorophyll Timeseries"
   ]
  },
  {
   "cell_type": "code",
   "execution_count": null,
   "id": "725d8362-4768-49d5-934c-da16d70c6ab2",
   "metadata": {},
   "outputs": [],
   "source": [
    "#Calculating averages so they can be plotted over time series\n",
    "final_se = []\n",
    "for x in range(1,34):\n",
    "    se= stats.sem(averages[x])\n",
    "    final_se.append(se)\n",
    "\n",
    "#Average Chlorophyll Timeseries by Seascapes Class\n",
    "colors = [\"midnightblue\",\"navy\",\"darkblue\",\"mediumblue\", \"blue\", \"royalblue\", 'cornflowerblue','steelblue','dodgerblue','deepskyblue','skyblue','lightskyblue','lightseagreen','mediumturquoise','mediumaquamarine','limegreen','lawngreen','greenyellow','yellow',\n",
    "         'khaki','gold','goldenrod','darkgoldenrod','darkorange', 'chocolate','sandybrown','peru','coral','orangered','red','black','dimgrey', 'lightgray']\n",
    "\n",
    "\n",
    "for x in range(1,34):\n",
    "    fig = plt.figure(figsize=(12, 5)) #set figure size\n",
    "    for i in range(len(averages[x])):\n",
    "        if averages[x][i]<0.01: #this is plotting the cholorphyll by data size\n",
    "            a= plt.scatter(xi[i], averages[x][i], s= 5, label= \"<0.01\", color = colors[x])\n",
    "        elif averages[x][i]>0.01 and averages[x][i]<0.1:\n",
    "            b=plt.scatter(xi[i], averages[x][i], s= 10, label= \">0.01 and <0.1\", color = colors[x])\n",
    "        elif averages[x][i]>0.1 and averages[x][i]<0.5:\n",
    "            c=plt.scatter(xi[i], averages[x][i], s= 25, label= \">0.1 and <0.5\", color = colors[x])    \n",
    "        elif averages[x][i]>0.5 and averages[x][i]<1:\n",
    "            d=plt.scatter(xi[i], averages[x][i], s= 35, label= \">0.5 and <1\", color = colors[x])  \n",
    "        elif averages[x][i]>1 and averages[x][i]<1.5:\n",
    "            e=plt.scatter(xi[i], averages[x][i], s= 45, label= \">1 and <1.5\", color = colors[x]) \n",
    "        elif averages[x][i]>1.5 and averages[x][i]<2:\n",
    "            f=plt.scatter(xi[i], averages[x][i], s= 55, label= \">1.5 and <2\", color = colors[x])    \n",
    "        elif averages[x][i]>2 and averages[x][i]<2.5:\n",
    "            g=plt.scatter(xi[i], averages[x][i], s= 65, label= \">2 and <2.5\", color = colors[x])\n",
    "        elif averages[x][i]>2.5 and averages[x][i]<3:\n",
    "            h=plt.scatter(xi[i], averages[x][i], s= 75, label= \">2.5 and <3\", color = colors[x])   \n",
    "        elif averages[x][i]>3 and averages[x][i]<3.5:\n",
    "            i=plt.scatter(xi[i], averages[x][i], s= 85, label= \">3 and <3.5\", color = colors[x])  \n",
    "        elif averages[x][i]>3.5 and averages[x][i]<4:\n",
    "            j=plt.scatter(xi[i], averages[x][i], s= 95, label= \">3.5 and <4\", color = colors[x]) \n",
    "        elif averages[x][i]>4 and averages[x][i]<4.5:\n",
    "            k=plt.scatter(xi[i], averages[x][i], s= 105, label= \">4 and <4.5\", color = colors[x])\n",
    "        elif averages[x][i]>4.5 and averages[x][i]<5:\n",
    "            l=plt.scatter(xi[i], averages[x][i], s= 115, label= \">4.5 and <5\", color = colors[x])\n",
    "        elif averages[x][i]>5 and averages[x][i]<5.5:\n",
    "            m=plt.scatter(xi[i], averages[x][i], s= 125, label= \">5 and <5.5\", color = colors[x])\n",
    "        elif averages[x][i]>5.5 and averages[x][i]<6:\n",
    "            n=plt.scatter(xi[i], averages[x][i], s= 135, label= \">5.5 and <6\", color = colors[x])\n",
    "        elif averages[x][i]>6 and averages[x][i]<6.5:\n",
    "            o=plt.scatter(xi[i], averages[x][i], s= 150, label= \">6 and <6.5\", color = colors[x])\n",
    "        elif averages[x][i]>6.5:\n",
    "            p=plt.scatter(xi[i], averages[x][i], s= 200, label= \">6.5\", color = colors[x])\n",
    "    plt.title('Average CHLOROPHYLL by Seascape Class')\n",
    "    plt.ylabel('Average CHLOR')\n",
    "    plt.xlabel('Date')\n",
    "    plt.tick_params(axis='x', labelsize=10) #change date tick label size\n",
    "    plt.xticks(xi, month, rotation=45, fontsize=8) #add correct labels\n",
    "    plt.ylim(0.05, 20)\n",
    "    plt.yscale('symlog')\n",
    "    handles, labels = plt.gca().get_legend_handles_labels()\n",
    "    by_label = dict(zip(labels, handles))\n",
    "    plt.legend(by_label.values(), by_label.keys(), loc='center left', bbox_to_anchor=(1, 0.5), fontsize= '8.5', labelspacing = 1.5)\n",
    "    labels = []\n",
    "    for i in range(len(xi)): \n",
    "        if i % 4 == 0: \n",
    "            labels.append(month[i])\n",
    "        else: \n",
    "            labels.append(\"\")\n",
    "\n",
    "    plt.xticks(ticks=xi,labels=labels)\n",
    "\n",
    "    for i in range(len(xi)):\n",
    "        plt.annotate(f'{averages[x][i]:.2f}', (xi[i],averages[x][i]), fontsize=6, xycoords='data',\n",
    "                xytext=(-10, 7), textcoords='offset points')\n",
    "        \n",
    "    plt.show()"
   ]
  },
  {
   "cell_type": "markdown",
   "id": "25d068e3-9425-48ce-9b47-78cb0d118b0f",
   "metadata": {},
   "source": [
    "### Annual Average of Chlorophyll Data"
   ]
  },
  {
   "cell_type": "code",
   "execution_count": null,
   "id": "0a6e79a7-8daf-4686-a45b-9307544e9afc",
   "metadata": {},
   "outputs": [],
   "source": [
    "stacked_bytime = ds_source.stack(z=('latitude', 'longitude')).mean(dim='time')\n",
    "fig = plt.figure(figsize=(10, 7)) #set figure size\n",
    "map_projection = cartopy.crs.PlateCarree() #set map projection\n",
    "ax = plt.axes(projection=map_projection) \n",
    "plt.scatter(stacked_bytime.longitude, stacked_bytime.latitude,c= stacked_bytime.chlor_a, vmin = 0, cmap= 'jet')\n",
    "ax.coastlines()\n",
    "plt.title('Average Chlorophyll')\n",
    "ax.set_xticks(np.linspace(-78, -63.4, 5), crs=map_projection) #set latitude bounds \n",
    "ax.set_yticks(np.linspace(34.3, 47, 5), crs=map_projection) #set longitude bounds\n",
    "lon_formatter = LongitudeFormatter(zero_direction_label=True)\n",
    "lat_formatter = LatitudeFormatter()\n",
    "ax.xaxis.set_major_formatter(lon_formatter)\n",
    "ax.yaxis.set_major_formatter(lat_formatter)"
   ]
  },
  {
   "cell_type": "markdown",
   "id": "cc0a993f-087a-4439-a3e2-103b3c4e16fd",
   "metadata": {},
   "source": [
    "### CONCLUSION "
   ]
  },
  {
   "cell_type": "markdown",
   "id": "aa8263dd-7147-4c5b-b607-071879f22b7d",
   "metadata": {},
   "source": [
    "* By looking at the strong seasonality the Seascapes product produced over the year of 2023, as well observable inconsistencies, we can say that:\n",
    "* Not a reliable product for quantifying water masses\n",
    "* Seascapes determines water characteristics, however, this product needs to be tweaked so that it is correctly identifying water masses into it’s respectable classes\n",
    "* Refining Seascapes to be a regionally tuned to the known Northeast shelf water masses\n",
    "* This project was very exploratory so there are definitely some next steps to be taken. This includes, systematically looking for patterns and consistency in Seascapes performance, feature selection for the regional mode, and testing and validating the regional model"
   ]
  },
  {
   "cell_type": "markdown",
   "id": "efbb5b71-c2cc-4ea7-9119-a7bba4234bc7",
   "metadata": {},
   "source": [
    "### This Matters!"
   ]
  },
  {
   "cell_type": "markdown",
   "id": "79d75ece-9b46-4748-9908-0e656cf57e23",
   "metadata": {},
   "source": [
    "* By enhancing remote sensing products and integrating multiple data sources, it contributes to a more comprehensive understanding of the Northeast U.S. continental shelf ecosystem, supporting sustainable fisheries management and habitat assessment\n",
    "* Water mass classification are foundational for understanding the dynamics of oceanic environments, including nutrient distribution, plankton blooms, and thermal fronts. All of these components are critical factors influencing fisheries and their habitats\n",
    "* The regionally tuned product will be used for the ecosystem based fisheries management and conservation efforts, as they help in monitoring habitat suitability, identifying potential fishing grounds, and predicting the movement of stocks"
   ]
  },
  {
   "cell_type": "markdown",
   "id": "3a8009c7-a87a-4479-9d3e-6a67c183c0a7",
   "metadata": {},
   "source": [
    "### CONCEPT MAP"
   ]
  },
  {
   "cell_type": "markdown",
   "id": "d9236d18-3a27-4208-8587-55e7ac8b5739",
   "metadata": {},
   "source": [
    "Our concept map is a prime example of a complex system. We visually demonstrate a structure of multiple different components that have connections to each other in some shape or form and create a bigger picture and story"
   ]
  }
 ],
 "metadata": {
  "kernelspec": {
   "display_name": "Python 3 (ipykernel)",
   "language": "python",
   "name": "python3"
  },
  "language_info": {
   "codemirror_mode": {
    "name": "ipython",
    "version": 3
   },
   "file_extension": ".py",
   "mimetype": "text/x-python",
   "name": "python",
   "nbconvert_exporter": "python",
   "pygments_lexer": "ipython3",
   "version": "3.11.7"
  }
 },
 "nbformat": 4,
 "nbformat_minor": 5
}

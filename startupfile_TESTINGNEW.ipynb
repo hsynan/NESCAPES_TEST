{
 "cells": [
  {
   "cell_type": "markdown",
   "id": "d64f8147-68d4-4829-8eeb-db459ba95229",
   "metadata": {},
   "source": [
    "# Start up file (NEW VERSION FOR TESTING) \n",
    "## Objectives: \n",
    "* find usernmame\n",
    "* set directories\n",
    "* import basic/common libraries\n",
    "* connect to github"
   ]
  },
  {
   "cell_type": "code",
   "execution_count": 28,
   "id": "ea54a3dc-3b5b-4a53-9a3d-6869f0be50de",
   "metadata": {},
   "outputs": [],
   "source": [
    "%run ./FUNCTIONS.ipynb #import functions notebook"
   ]
  },
  {
   "cell_type": "code",
   "execution_count": 29,
   "id": "ba053859-7e2e-41c0-9265-ce436897fa7a",
   "metadata": {},
   "outputs": [],
   "source": [
    "#import packages that come preinstalled \n",
    "import os\n",
    "import urllib.request\n",
    "import numpy as np\n",
    "import warnings\n",
    "warnings.filterwarnings('ignore')\n",
    "#from datetime import datetime\n",
    "from matplotlib import pyplot as plt\n",
    "import pandas as pd\n",
    "\n",
    "#check if packages are installed, if not... install them \n",
    "lib_name = ['sklearn', 'xarray', 'scipy','joblib','cartopy','git', 'ipynbname', 'sklearn_som'] #packages to check if installed \n",
    "for package in lib_name:\n",
    "    check_or_install(package)\n",
    "\n",
    "# import packages just installed \n",
    "%matplotlib inline\n",
    "#plotting libraries \n",
    "#import cartopy\n",
    "from cartopy.mpl.ticker import LongitudeFormatter, LatitudeFormatter\n",
    "import matplotlib.ticker as ticker \n",
    "from matplotlib.colors import ListedColormap\n",
    "from mpl_toolkits.basemap import Basemap\n",
    "from matplotlib.colors import LinearSegmentedColormap\n",
    "\n",
    "#ML libraries\n",
    "import sklearn as sk\n",
    "import xarray as xr\n",
    "#from sklearn import datasets\n",
    "#from sklearn import preprocessing\n",
    "#from sklearn_som.som import SOM\n",
    "#from scipy.cluster.hierarchy import linkage, dendrogram\n",
    "#from scipy.cluster.hierarchy import dendrogram\n",
    "#from sklearn.cluster import AgglomerativeClustering\n",
    "#from sklearn.metrics.cluster import rand_score, adjusted_rand_score, normalized_mutual_info_score\n",
    "\n",
    "#other\n",
    "#from pandas import *\n",
    "import random\n",
    "import joblib\n",
    "import math\n",
    "import glob\n",
    "#from git import Repo\n",
    "import git\n",
    "import ipynbname\n",
    "#from IPython.display import display, Markdown"
   ]
  },
  {
   "cell_type": "code",
   "execution_count": 30,
   "id": "2219f018-ba26-4320-96b9-7c3f3cd0b4ef",
   "metadata": {},
   "outputs": [],
   "source": [
    "us = os.getlogin() #get username\n",
    "base_dir = get_dirs('SEASCAPES', us)[0]\n",
    "proj_dir = get_dirs('SEASCAPES', us, extra_path = '/CODE/PYTHON')[1]\n",
    "data_dir = get_dirs('SEASCAPES',us)[2]"
   ]
  },
  {
   "cell_type": "code",
   "execution_count": 31,
   "id": "150decdb-1854-42e9-b191-760986296c2d",
   "metadata": {},
   "outputs": [],
   "source": [
    "#BASE DIR\n",
    "isexist_base = os.path.exists(base_dir) #check if path exists \n",
    "#print(isexist)\n",
    "if str(isexist_base) == 'False': #if path doesn't exist already, make it\n",
    "    os.mkdir(base_dir)\n",
    "\n",
    "#PROJECT DIR\n",
    "#proj_dir = proj_path+'/'+proj_name\n",
    "isexist_proj = os.path.exists(proj_dir) #check if path exists \n",
    "if str(isexist_proj) == 'False': \n",
    "    os.mkdir(proj_dir)\n",
    "\n",
    "#DATA DIR\n",
    "isexist_data = os.path.exists(data_dir) #check if path exists \n",
    "if str(isexist_data) == 'False': \n",
    "    os.mkdir(data_dir)\n",
    "\n",
    "os.chdir(proj_dir) #cd to project path \n",
    "#os.getcwd()"
   ]
  },
  {
   "cell_type": "code",
   "execution_count": 44,
   "id": "8d5954b9-6b32-4f4a-aad1-7483c626ae73",
   "metadata": {},
   "outputs": [
    {
     "name": "stdout",
     "output_type": "stream",
     "text": [
      "C:\\Users\\haley.synan\\AppData\\Local\\anaconda3\\Lib\\site-packages\\jupytemplate\\jupytemplate\\template.ipynb\n"
     ]
    }
   ],
   "source": [
    "import jupytemplate\n",
    "print(jupytemplate.get_template_path())"
   ]
  },
  {
   "cell_type": "code",
   "execution_count": null,
   "id": "2ecf451e-3500-4184-b27b-b25fd4e12685",
   "metadata": {},
   "outputs": [],
   "source": []
  }
 ],
 "metadata": {
  "kernelspec": {
   "display_name": "Python 3 (ipykernel)",
   "language": "python",
   "name": "python3"
  },
  "language_info": {
   "codemirror_mode": {
    "name": "ipython",
    "version": 3
   },
   "file_extension": ".py",
   "mimetype": "text/x-python",
   "name": "python",
   "nbconvert_exporter": "python",
   "pygments_lexer": "ipython3",
   "version": "3.11.7"
  }
 },
 "nbformat": 4,
 "nbformat_minor": 5
}
